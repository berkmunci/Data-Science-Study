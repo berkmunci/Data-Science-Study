{
 "cells": [
  {
   "cell_type": "markdown",
   "metadata": {},
   "source": [
    "# Data Science Study Part 2\n"
   ]
  },
  {
   "cell_type": "markdown",
   "metadata": {},
   "source": [
    "Before solving problems, necessary libraries are imported as shown below."
   ]
  },
  {
   "cell_type": "code",
   "execution_count": 56,
   "metadata": {},
   "outputs": [],
   "source": [
    "import os\n",
    "import warnings\n",
    "import numpy as np\n",
    "import pandas as pd\n",
    "import matplotlib.pyplot as plt\n",
    "\n",
    "from sklearn.preprocessing import StandardScaler\n",
    "from sklearn.model_selection import train_test_split, cross_val_score, StratifiedKFold\n",
    "from sklearn.feature_selection import mutual_info_regression, RFE\n",
    "from sklearn.linear_model import Ridge, LogisticRegression\n",
    "from sklearn.tree import DecisionTreeClassifier\n",
    "from sklearn.svm import SVC\n",
    "from sklearn.neighbors import KNeighborsClassifier\n",
    "from sklearn.neural_network import MLPClassifier\n",
    "from sklearn.cluster import KMeans\n",
    "from sklearn.metrics import silhouette_score\n",
    "from sklearn.pipeline import Pipeline\n",
    "\n",
    "#ignore warnings\n",
    "\n",
    "os.environ[\"OMP_NUM_THREADS\"] = \"1\"  # Limit MKL to using one thread\n",
    "\n",
    "warnings.filterwarnings('ignore', category=FutureWarning)\n",
    "warnings.filterwarnings('ignore', message=\"KMeans is known to have a memory leak on Windows with MKL, when there are less chunks than available threads.\")\n",
    "warnings.filterwarnings(\"ignore\", category=UserWarning, module='sklearn.neural_network._multilayer_perceptron')\n",
    "\n"
   ]
  },
  {
   "cell_type": "markdown",
   "metadata": {},
   "source": [
    "## Problem 1"
   ]
  },
  {
   "cell_type": "markdown",
   "metadata": {},
   "source": [
    "### EDA Process "
   ]
  },
  {
   "cell_type": "markdown",
   "metadata": {},
   "source": [
    "Data is imported."
   ]
  },
  {
   "cell_type": "code",
   "execution_count": 57,
   "metadata": {},
   "outputs": [
    {
     "data": {
      "text/html": [
       "<div>\n",
       "<style scoped>\n",
       "    .dataframe tbody tr th:only-of-type {\n",
       "        vertical-align: middle;\n",
       "    }\n",
       "\n",
       "    .dataframe tbody tr th {\n",
       "        vertical-align: top;\n",
       "    }\n",
       "\n",
       "    .dataframe thead th {\n",
       "        text-align: right;\n",
       "    }\n",
       "</style>\n",
       "<table border=\"1\" class=\"dataframe\">\n",
       "  <thead>\n",
       "    <tr style=\"text-align: right;\">\n",
       "      <th></th>\n",
       "      <th>Date</th>\n",
       "      <th>Calories Burned</th>\n",
       "      <th>Steps</th>\n",
       "      <th>Distance</th>\n",
       "      <th>Floors</th>\n",
       "      <th>Minutes Sedentary</th>\n",
       "      <th>Minutes Lightly Active</th>\n",
       "      <th>Minutes Fairly Active</th>\n",
       "      <th>Minutes Very Active</th>\n",
       "      <th>Activity Calories</th>\n",
       "    </tr>\n",
       "  </thead>\n",
       "  <tbody>\n",
       "    <tr>\n",
       "      <th>0</th>\n",
       "      <td>7/07/2016</td>\n",
       "      <td>2,682</td>\n",
       "      <td>12,541</td>\n",
       "      <td>9.02</td>\n",
       "      <td>13</td>\n",
       "      <td>667</td>\n",
       "      <td>171</td>\n",
       "      <td>18</td>\n",
       "      <td>60</td>\n",
       "      <td>1,248</td>\n",
       "    </tr>\n",
       "    <tr>\n",
       "      <th>1</th>\n",
       "      <td>8/07/2016</td>\n",
       "      <td>2,423</td>\n",
       "      <td>8,029</td>\n",
       "      <td>5.70</td>\n",
       "      <td>35</td>\n",
       "      <td>760</td>\n",
       "      <td>208</td>\n",
       "      <td>13</td>\n",
       "      <td>6</td>\n",
       "      <td>928</td>\n",
       "    </tr>\n",
       "    <tr>\n",
       "      <th>2</th>\n",
       "      <td>9/07/2016</td>\n",
       "      <td>2,875</td>\n",
       "      <td>10,801</td>\n",
       "      <td>7.67</td>\n",
       "      <td>3</td>\n",
       "      <td>496</td>\n",
       "      <td>148</td>\n",
       "      <td>18</td>\n",
       "      <td>46</td>\n",
       "      <td>1,040</td>\n",
       "    </tr>\n",
       "    <tr>\n",
       "      <th>3</th>\n",
       "      <td>10/07/2016</td>\n",
       "      <td>2,638</td>\n",
       "      <td>11,997</td>\n",
       "      <td>8.52</td>\n",
       "      <td>22</td>\n",
       "      <td>771</td>\n",
       "      <td>248</td>\n",
       "      <td>3</td>\n",
       "      <td>27</td>\n",
       "      <td>1,285</td>\n",
       "    </tr>\n",
       "    <tr>\n",
       "      <th>4</th>\n",
       "      <td>11/07/2016</td>\n",
       "      <td>2,423</td>\n",
       "      <td>9,039</td>\n",
       "      <td>6.42</td>\n",
       "      <td>12</td>\n",
       "      <td>714</td>\n",
       "      <td>232</td>\n",
       "      <td>10</td>\n",
       "      <td>16</td>\n",
       "      <td>1,044</td>\n",
       "    </tr>\n",
       "  </tbody>\n",
       "</table>\n",
       "</div>"
      ],
      "text/plain": [
       "         Date Calories Burned   Steps  Distance  Floors  Minutes Sedentary  \\\n",
       "0   7/07/2016           2,682  12,541      9.02      13                667   \n",
       "1   8/07/2016           2,423   8,029      5.70      35                760   \n",
       "2   9/07/2016           2,875  10,801      7.67       3                496   \n",
       "3  10/07/2016           2,638  11,997      8.52      22                771   \n",
       "4  11/07/2016           2,423   9,039      6.42      12                714   \n",
       "\n",
       "   Minutes Lightly Active  Minutes Fairly Active  Minutes Very Active  \\\n",
       "0                     171                     18                   60   \n",
       "1                     208                     13                    6   \n",
       "2                     148                     18                   46   \n",
       "3                     248                      3                   27   \n",
       "4                     232                     10                   16   \n",
       "\n",
       "  Activity Calories  \n",
       "0             1,248  \n",
       "1               928  \n",
       "2             1,040  \n",
       "3             1,285  \n",
       "4             1,044  "
      ]
     },
     "metadata": {},
     "output_type": "display_data"
    }
   ],
   "source": [
    "filename=\"fitbit.csv\"\n",
    "df=pd.read_csv(filename)\n",
    "display(df.head())"
   ]
  },
  {
   "cell_type": "markdown",
   "metadata": {},
   "source": [
    "as stated in the question, the date field has also been removed from the data."
   ]
  },
  {
   "cell_type": "code",
   "execution_count": 58,
   "metadata": {},
   "outputs": [
    {
     "name": "stdout",
     "output_type": "stream",
     "text": [
      "<class 'pandas.core.frame.DataFrame'>\n",
      "RangeIndex: 30 entries, 0 to 29\n",
      "Data columns (total 9 columns):\n",
      " #   Column                  Non-Null Count  Dtype  \n",
      "---  ------                  --------------  -----  \n",
      " 0   Calories Burned         30 non-null     object \n",
      " 1   Steps                   30 non-null     object \n",
      " 2   Distance                30 non-null     float64\n",
      " 3   Floors                  30 non-null     int64  \n",
      " 4   Minutes Sedentary       30 non-null     int64  \n",
      " 5   Minutes Lightly Active  30 non-null     int64  \n",
      " 6   Minutes Fairly Active   30 non-null     int64  \n",
      " 7   Minutes Very Active     30 non-null     int64  \n",
      " 8   Activity Calories       30 non-null     object \n",
      "dtypes: float64(1), int64(5), object(3)\n",
      "memory usage: 2.2+ KB\n"
     ]
    },
    {
     "data": {
      "text/plain": [
       "None"
      ]
     },
     "metadata": {},
     "output_type": "display_data"
    },
    {
     "data": {
      "text/html": [
       "<div>\n",
       "<style scoped>\n",
       "    .dataframe tbody tr th:only-of-type {\n",
       "        vertical-align: middle;\n",
       "    }\n",
       "\n",
       "    .dataframe tbody tr th {\n",
       "        vertical-align: top;\n",
       "    }\n",
       "\n",
       "    .dataframe thead th {\n",
       "        text-align: right;\n",
       "    }\n",
       "</style>\n",
       "<table border=\"1\" class=\"dataframe\">\n",
       "  <thead>\n",
       "    <tr style=\"text-align: right;\">\n",
       "      <th></th>\n",
       "      <th>Calories Burned</th>\n",
       "      <th>Steps</th>\n",
       "      <th>Distance</th>\n",
       "      <th>Floors</th>\n",
       "      <th>Minutes Sedentary</th>\n",
       "      <th>Minutes Lightly Active</th>\n",
       "      <th>Minutes Fairly Active</th>\n",
       "      <th>Minutes Very Active</th>\n",
       "      <th>Activity Calories</th>\n",
       "    </tr>\n",
       "  </thead>\n",
       "  <tbody>\n",
       "    <tr>\n",
       "      <th>0</th>\n",
       "      <td>2,682</td>\n",
       "      <td>12,541</td>\n",
       "      <td>9.02</td>\n",
       "      <td>13</td>\n",
       "      <td>667</td>\n",
       "      <td>171</td>\n",
       "      <td>18</td>\n",
       "      <td>60</td>\n",
       "      <td>1,248</td>\n",
       "    </tr>\n",
       "    <tr>\n",
       "      <th>1</th>\n",
       "      <td>2,423</td>\n",
       "      <td>8,029</td>\n",
       "      <td>5.70</td>\n",
       "      <td>35</td>\n",
       "      <td>760</td>\n",
       "      <td>208</td>\n",
       "      <td>13</td>\n",
       "      <td>6</td>\n",
       "      <td>928</td>\n",
       "    </tr>\n",
       "    <tr>\n",
       "      <th>2</th>\n",
       "      <td>2,875</td>\n",
       "      <td>10,801</td>\n",
       "      <td>7.67</td>\n",
       "      <td>3</td>\n",
       "      <td>496</td>\n",
       "      <td>148</td>\n",
       "      <td>18</td>\n",
       "      <td>46</td>\n",
       "      <td>1,040</td>\n",
       "    </tr>\n",
       "    <tr>\n",
       "      <th>3</th>\n",
       "      <td>2,638</td>\n",
       "      <td>11,997</td>\n",
       "      <td>8.52</td>\n",
       "      <td>22</td>\n",
       "      <td>771</td>\n",
       "      <td>248</td>\n",
       "      <td>3</td>\n",
       "      <td>27</td>\n",
       "      <td>1,285</td>\n",
       "    </tr>\n",
       "    <tr>\n",
       "      <th>4</th>\n",
       "      <td>2,423</td>\n",
       "      <td>9,039</td>\n",
       "      <td>6.42</td>\n",
       "      <td>12</td>\n",
       "      <td>714</td>\n",
       "      <td>232</td>\n",
       "      <td>10</td>\n",
       "      <td>16</td>\n",
       "      <td>1,044</td>\n",
       "    </tr>\n",
       "  </tbody>\n",
       "</table>\n",
       "</div>"
      ],
      "text/plain": [
       "  Calories Burned   Steps  Distance  Floors  Minutes Sedentary  \\\n",
       "0           2,682  12,541      9.02      13                667   \n",
       "1           2,423   8,029      5.70      35                760   \n",
       "2           2,875  10,801      7.67       3                496   \n",
       "3           2,638  11,997      8.52      22                771   \n",
       "4           2,423   9,039      6.42      12                714   \n",
       "\n",
       "   Minutes Lightly Active  Minutes Fairly Active  Minutes Very Active  \\\n",
       "0                     171                     18                   60   \n",
       "1                     208                     13                    6   \n",
       "2                     148                     18                   46   \n",
       "3                     248                      3                   27   \n",
       "4                     232                     10                   16   \n",
       "\n",
       "  Activity Calories  \n",
       "0             1,248  \n",
       "1               928  \n",
       "2             1,040  \n",
       "3             1,285  \n",
       "4             1,044  "
      ]
     },
     "metadata": {},
     "output_type": "display_data"
    }
   ],
   "source": [
    "df.drop(columns=[\"Date\"],inplace=True)\n",
    "display(df.info())\n",
    "display(df.head())"
   ]
  },
  {
   "cell_type": "markdown",
   "metadata": {},
   "source": [
    "When the data is examined, it is observed that the comma is not a decimal separator. For example, the number of steps cannot be fractional. Therefore, the commas were removed. Additionally, when examining the data types, it is observed that fields that should be numbers are defined as objects due to the commas. Thus, the data type of the fields where the commas were removed has been changed to integer."
   ]
  },
  {
   "cell_type": "code",
   "execution_count": 59,
   "metadata": {},
   "outputs": [
    {
     "name": "stdout",
     "output_type": "stream",
     "text": [
      "<class 'pandas.core.frame.DataFrame'>\n",
      "RangeIndex: 30 entries, 0 to 29\n",
      "Data columns (total 9 columns):\n",
      " #   Column                  Non-Null Count  Dtype  \n",
      "---  ------                  --------------  -----  \n",
      " 0   Calories Burned         30 non-null     int32  \n",
      " 1   Steps                   30 non-null     int32  \n",
      " 2   Distance                30 non-null     float64\n",
      " 3   Floors                  30 non-null     int64  \n",
      " 4   Minutes Sedentary       30 non-null     int64  \n",
      " 5   Minutes Lightly Active  30 non-null     int64  \n",
      " 6   Minutes Fairly Active   30 non-null     int64  \n",
      " 7   Minutes Very Active     30 non-null     int64  \n",
      " 8   Activity Calories       30 non-null     int32  \n",
      "dtypes: float64(1), int32(3), int64(5)\n",
      "memory usage: 1.9 KB\n"
     ]
    },
    {
     "data": {
      "text/plain": [
       "None"
      ]
     },
     "metadata": {},
     "output_type": "display_data"
    },
    {
     "data": {
      "text/html": [
       "<div>\n",
       "<style scoped>\n",
       "    .dataframe tbody tr th:only-of-type {\n",
       "        vertical-align: middle;\n",
       "    }\n",
       "\n",
       "    .dataframe tbody tr th {\n",
       "        vertical-align: top;\n",
       "    }\n",
       "\n",
       "    .dataframe thead th {\n",
       "        text-align: right;\n",
       "    }\n",
       "</style>\n",
       "<table border=\"1\" class=\"dataframe\">\n",
       "  <thead>\n",
       "    <tr style=\"text-align: right;\">\n",
       "      <th></th>\n",
       "      <th>Calories Burned</th>\n",
       "      <th>Steps</th>\n",
       "      <th>Distance</th>\n",
       "      <th>Floors</th>\n",
       "      <th>Minutes Sedentary</th>\n",
       "      <th>Minutes Lightly Active</th>\n",
       "      <th>Minutes Fairly Active</th>\n",
       "      <th>Minutes Very Active</th>\n",
       "      <th>Activity Calories</th>\n",
       "    </tr>\n",
       "  </thead>\n",
       "  <tbody>\n",
       "    <tr>\n",
       "      <th>0</th>\n",
       "      <td>2682</td>\n",
       "      <td>12541</td>\n",
       "      <td>9.02</td>\n",
       "      <td>13</td>\n",
       "      <td>667</td>\n",
       "      <td>171</td>\n",
       "      <td>18</td>\n",
       "      <td>60</td>\n",
       "      <td>1248</td>\n",
       "    </tr>\n",
       "    <tr>\n",
       "      <th>1</th>\n",
       "      <td>2423</td>\n",
       "      <td>8029</td>\n",
       "      <td>5.70</td>\n",
       "      <td>35</td>\n",
       "      <td>760</td>\n",
       "      <td>208</td>\n",
       "      <td>13</td>\n",
       "      <td>6</td>\n",
       "      <td>928</td>\n",
       "    </tr>\n",
       "    <tr>\n",
       "      <th>2</th>\n",
       "      <td>2875</td>\n",
       "      <td>10801</td>\n",
       "      <td>7.67</td>\n",
       "      <td>3</td>\n",
       "      <td>496</td>\n",
       "      <td>148</td>\n",
       "      <td>18</td>\n",
       "      <td>46</td>\n",
       "      <td>1040</td>\n",
       "    </tr>\n",
       "    <tr>\n",
       "      <th>3</th>\n",
       "      <td>2638</td>\n",
       "      <td>11997</td>\n",
       "      <td>8.52</td>\n",
       "      <td>22</td>\n",
       "      <td>771</td>\n",
       "      <td>248</td>\n",
       "      <td>3</td>\n",
       "      <td>27</td>\n",
       "      <td>1285</td>\n",
       "    </tr>\n",
       "    <tr>\n",
       "      <th>4</th>\n",
       "      <td>2423</td>\n",
       "      <td>9039</td>\n",
       "      <td>6.42</td>\n",
       "      <td>12</td>\n",
       "      <td>714</td>\n",
       "      <td>232</td>\n",
       "      <td>10</td>\n",
       "      <td>16</td>\n",
       "      <td>1044</td>\n",
       "    </tr>\n",
       "  </tbody>\n",
       "</table>\n",
       "</div>"
      ],
      "text/plain": [
       "   Calories Burned  Steps  Distance  Floors  Minutes Sedentary  \\\n",
       "0             2682  12541      9.02      13                667   \n",
       "1             2423   8029      5.70      35                760   \n",
       "2             2875  10801      7.67       3                496   \n",
       "3             2638  11997      8.52      22                771   \n",
       "4             2423   9039      6.42      12                714   \n",
       "\n",
       "   Minutes Lightly Active  Minutes Fairly Active  Minutes Very Active  \\\n",
       "0                     171                     18                   60   \n",
       "1                     208                     13                    6   \n",
       "2                     148                     18                   46   \n",
       "3                     248                      3                   27   \n",
       "4                     232                     10                   16   \n",
       "\n",
       "   Activity Calories  \n",
       "0               1248  \n",
       "1                928  \n",
       "2               1040  \n",
       "3               1285  \n",
       "4               1044  "
      ]
     },
     "metadata": {},
     "output_type": "display_data"
    }
   ],
   "source": [
    "mod_columns=[\"Calories Burned\",\"Steps\",\"Activity Calories\"]\n",
    "for i in range(len(mod_columns)):\n",
    "    df[mod_columns[i]] = df[mod_columns[i]].str.replace(',', '')\n",
    "    df[mod_columns[i]] = df[mod_columns[i]].astype(int)\n",
    "display(df.info())\n",
    "display(df.head())"
   ]
  },
  {
   "cell_type": "markdown",
   "metadata": {},
   "source": [
    "Features (X) and target (y) is defined."
   ]
  },
  {
   "cell_type": "code",
   "execution_count": 63,
   "metadata": {},
   "outputs": [],
   "source": [
    "X = df.drop(columns=['Calories Burned'])\n",
    "y = df['Calories Burned']"
   ]
  },
  {
   "cell_type": "markdown",
   "metadata": {},
   "source": [
    "Column values are different from each other, for this reason we need to scale data."
   ]
  },
  {
   "cell_type": "code",
   "execution_count": 64,
   "metadata": {},
   "outputs": [],
   "source": [
    "scaler = StandardScaler()\n",
    "x_scaled = scaler.fit_transform(X)"
   ]
  },
  {
   "cell_type": "markdown",
   "metadata": {},
   "source": [
    "Data is ready for task."
   ]
  },
  {
   "cell_type": "markdown",
   "metadata": {},
   "source": [
    "### Task:\n",
    "First, using mutual information score find the top-4 features having the highest relationship with the\n",
    "target (\"calories burned\" column)."
   ]
  },
  {
   "cell_type": "markdown",
   "metadata": {},
   "source": [
    "Lets start with defining mutual information and ridge regression functions."
   ]
  },
  {
   "cell_type": "code",
   "execution_count": 65,
   "metadata": {},
   "outputs": [],
   "source": [
    "def mutual_inf(X,y,num_of_features):\n",
    "    mi_scores = mutual_info_regression(X, y)\n",
    "    mi_scores = pd.Series(mi_scores, name=\"MI Scores\", index=X.columns)\n",
    "\n",
    "    # Sort features are sorted by their score\n",
    "    mi_scores = mi_scores.sort_values(ascending=False)\n",
    "    top_features = mi_scores.head(num_of_features)\n",
    "    return top_features\n",
    "\n",
    "def ridge_reg(X,X_scaled,y,num_of_features):\n",
    "\n",
    "\n",
    "    ridge = Ridge()\n",
    "\n",
    "    # Instantiate RFE with Ridge as the estimator and number of features to select\n",
    "    rfe = RFE(estimator=ridge, n_features_to_select=num_of_features)\n",
    "\n",
    "    # Fit RFE. Scaled values are used.\n",
    "    rfe.fit(X_scaled, y)\n",
    "\n",
    "    # Get the mask of selected features\n",
    "    selected_features = rfe.support_\n",
    "\n",
    "    # Print the names of the top-4 features\n",
    "    top_features = X.columns[selected_features]\n",
    "    return top_features\n"
   ]
  },
  {
   "cell_type": "markdown",
   "metadata": {},
   "source": [
    "Using the relevant functions, the top 4 features were determined and displayed in the expected format."
   ]
  },
  {
   "cell_type": "code",
   "execution_count": 66,
   "metadata": {},
   "outputs": [
    {
     "name": "stdout",
     "output_type": "stream",
     "text": [
      "Selected features having top mutual information scores\n",
      "['Activity Calories', 'Minutes Fairly Active', 'Steps', 'Distance']\n",
      "Selected features by Recursive Feature Elimination\n",
      "['Minutes Sedentary', 'Minutes Fairly Active', 'Minutes Very Active', 'Activity Calories']\n"
     ]
    }
   ],
   "source": [
    "mi_features=mutual_inf(X,y,num_of_features=4)\n",
    "ridge_features=ridge_reg(X,x_scaled,y,num_of_features=4)\n",
    "\n",
    "print(\"Selected features having top mutual information scores\")\n",
    "print(list(mi_features.index))\n",
    "print(\"Selected features by Recursive Feature Elimination\")\n",
    "print(list(ridge_features))"
   ]
  },
  {
   "cell_type": "markdown",
   "metadata": {},
   "source": [
    "- Both methods agree on the importance of 'Activity Calories' and 'Minutes Fairly Active'.\n",
    "Mutual Information additionally highlights 'Steps' and 'Distance' as important features.\n",
    "RFE highlights 'Minutes Sedentary' and 'Minutes Very Active' instead.\n",
    "- These differences can occur because each method evaluates feature importance differently. Mutual Information measures the dependency between each feature and the target, while RFE uses a model-based approach to recursively select features that contribute most to the prediction accuracy. Combining insights from both methods can provide a more robust feature selection for model building."
   ]
  },
  {
   "cell_type": "markdown",
   "metadata": {},
   "source": [
    "## Problem 2"
   ]
  },
  {
   "cell_type": "markdown",
   "metadata": {},
   "source": [
    "### EDA Process "
   ]
  },
  {
   "cell_type": "markdown",
   "metadata": {},
   "source": [
    "Firstly, data is imported."
   ]
  },
  {
   "cell_type": "code",
   "execution_count": 32,
   "metadata": {},
   "outputs": [
    {
     "data": {
      "text/html": [
       "<div>\n",
       "<style scoped>\n",
       "    .dataframe tbody tr th:only-of-type {\n",
       "        vertical-align: middle;\n",
       "    }\n",
       "\n",
       "    .dataframe tbody tr th {\n",
       "        vertical-align: top;\n",
       "    }\n",
       "\n",
       "    .dataframe thead th {\n",
       "        text-align: right;\n",
       "    }\n",
       "</style>\n",
       "<table border=\"1\" class=\"dataframe\">\n",
       "  <thead>\n",
       "    <tr style=\"text-align: right;\">\n",
       "      <th></th>\n",
       "      <th>ID</th>\n",
       "      <th>Visit.Time</th>\n",
       "      <th>Average.Expense</th>\n",
       "      <th>Sex</th>\n",
       "      <th>Age</th>\n",
       "    </tr>\n",
       "  </thead>\n",
       "  <tbody>\n",
       "    <tr>\n",
       "      <th>0</th>\n",
       "      <td>1</td>\n",
       "      <td>3</td>\n",
       "      <td>5.7</td>\n",
       "      <td>0</td>\n",
       "      <td>10</td>\n",
       "    </tr>\n",
       "    <tr>\n",
       "      <th>1</th>\n",
       "      <td>2</td>\n",
       "      <td>5</td>\n",
       "      <td>14.5</td>\n",
       "      <td>0</td>\n",
       "      <td>27</td>\n",
       "    </tr>\n",
       "    <tr>\n",
       "      <th>2</th>\n",
       "      <td>3</td>\n",
       "      <td>16</td>\n",
       "      <td>33.5</td>\n",
       "      <td>0</td>\n",
       "      <td>32</td>\n",
       "    </tr>\n",
       "    <tr>\n",
       "      <th>3</th>\n",
       "      <td>4</td>\n",
       "      <td>5</td>\n",
       "      <td>15.9</td>\n",
       "      <td>0</td>\n",
       "      <td>30</td>\n",
       "    </tr>\n",
       "    <tr>\n",
       "      <th>4</th>\n",
       "      <td>5</td>\n",
       "      <td>16</td>\n",
       "      <td>24.9</td>\n",
       "      <td>0</td>\n",
       "      <td>23</td>\n",
       "    </tr>\n",
       "  </tbody>\n",
       "</table>\n",
       "</div>"
      ],
      "text/plain": [
       "   ID  Visit.Time  Average.Expense  Sex  Age\n",
       "0   1           3              5.7    0   10\n",
       "1   2           5             14.5    0   27\n",
       "2   3          16             33.5    0   32\n",
       "3   4           5             15.9    0   30\n",
       "4   5          16             24.9    0   23"
      ]
     },
     "metadata": {},
     "output_type": "display_data"
    }
   ],
   "source": [
    "filename=\"customer.csv\"\n",
    "df=pd.read_csv(filename)\n",
    "display(df.head())"
   ]
  },
  {
   "cell_type": "markdown",
   "metadata": {},
   "source": [
    "as stated in the question, the date field has also been removed from the data."
   ]
  },
  {
   "cell_type": "code",
   "execution_count": 33,
   "metadata": {},
   "outputs": [
    {
     "data": {
      "text/html": [
       "<div>\n",
       "<style scoped>\n",
       "    .dataframe tbody tr th:only-of-type {\n",
       "        vertical-align: middle;\n",
       "    }\n",
       "\n",
       "    .dataframe tbody tr th {\n",
       "        vertical-align: top;\n",
       "    }\n",
       "\n",
       "    .dataframe thead th {\n",
       "        text-align: right;\n",
       "    }\n",
       "</style>\n",
       "<table border=\"1\" class=\"dataframe\">\n",
       "  <thead>\n",
       "    <tr style=\"text-align: right;\">\n",
       "      <th></th>\n",
       "      <th>Visit.Time</th>\n",
       "      <th>Average.Expense</th>\n",
       "      <th>Sex</th>\n",
       "      <th>Age</th>\n",
       "    </tr>\n",
       "  </thead>\n",
       "  <tbody>\n",
       "    <tr>\n",
       "      <th>0</th>\n",
       "      <td>3</td>\n",
       "      <td>5.7</td>\n",
       "      <td>0</td>\n",
       "      <td>10</td>\n",
       "    </tr>\n",
       "    <tr>\n",
       "      <th>1</th>\n",
       "      <td>5</td>\n",
       "      <td>14.5</td>\n",
       "      <td>0</td>\n",
       "      <td>27</td>\n",
       "    </tr>\n",
       "    <tr>\n",
       "      <th>2</th>\n",
       "      <td>16</td>\n",
       "      <td>33.5</td>\n",
       "      <td>0</td>\n",
       "      <td>32</td>\n",
       "    </tr>\n",
       "    <tr>\n",
       "      <th>3</th>\n",
       "      <td>5</td>\n",
       "      <td>15.9</td>\n",
       "      <td>0</td>\n",
       "      <td>30</td>\n",
       "    </tr>\n",
       "    <tr>\n",
       "      <th>4</th>\n",
       "      <td>16</td>\n",
       "      <td>24.9</td>\n",
       "      <td>0</td>\n",
       "      <td>23</td>\n",
       "    </tr>\n",
       "  </tbody>\n",
       "</table>\n",
       "</div>"
      ],
      "text/plain": [
       "   Visit.Time  Average.Expense  Sex  Age\n",
       "0           3              5.7    0   10\n",
       "1           5             14.5    0   27\n",
       "2          16             33.5    0   32\n",
       "3           5             15.9    0   30\n",
       "4          16             24.9    0   23"
      ]
     },
     "metadata": {},
     "output_type": "display_data"
    },
    {
     "name": "stdout",
     "output_type": "stream",
     "text": [
      "<class 'pandas.core.frame.DataFrame'>\n",
      "RangeIndex: 60 entries, 0 to 59\n",
      "Data columns (total 4 columns):\n",
      " #   Column           Non-Null Count  Dtype  \n",
      "---  ------           --------------  -----  \n",
      " 0   Visit.Time       60 non-null     int64  \n",
      " 1   Average.Expense  60 non-null     float64\n",
      " 2   Sex              60 non-null     int64  \n",
      " 3   Age              60 non-null     int64  \n",
      "dtypes: float64(1), int64(3)\n",
      "memory usage: 2.0 KB\n"
     ]
    },
    {
     "data": {
      "text/plain": [
       "None"
      ]
     },
     "metadata": {},
     "output_type": "display_data"
    }
   ],
   "source": [
    "df.drop(columns=['ID'],inplace=True)\n",
    "display(df.head())\n",
    "display(df.info())"
   ]
  },
  {
   "cell_type": "markdown",
   "metadata": {},
   "source": [
    "As can be seen, the gender type is defined as integer even though it should be boolean. Therefore, the data type has been changed to object."
   ]
  },
  {
   "cell_type": "code",
   "execution_count": 34,
   "metadata": {},
   "outputs": [
    {
     "data": {
      "text/html": [
       "<div>\n",
       "<style scoped>\n",
       "    .dataframe tbody tr th:only-of-type {\n",
       "        vertical-align: middle;\n",
       "    }\n",
       "\n",
       "    .dataframe tbody tr th {\n",
       "        vertical-align: top;\n",
       "    }\n",
       "\n",
       "    .dataframe thead th {\n",
       "        text-align: right;\n",
       "    }\n",
       "</style>\n",
       "<table border=\"1\" class=\"dataframe\">\n",
       "  <thead>\n",
       "    <tr style=\"text-align: right;\">\n",
       "      <th></th>\n",
       "      <th>Visit.Time</th>\n",
       "      <th>Average.Expense</th>\n",
       "      <th>Sex</th>\n",
       "      <th>Age</th>\n",
       "    </tr>\n",
       "  </thead>\n",
       "  <tbody>\n",
       "    <tr>\n",
       "      <th>0</th>\n",
       "      <td>3</td>\n",
       "      <td>5.7</td>\n",
       "      <td>0</td>\n",
       "      <td>10</td>\n",
       "    </tr>\n",
       "    <tr>\n",
       "      <th>1</th>\n",
       "      <td>5</td>\n",
       "      <td>14.5</td>\n",
       "      <td>0</td>\n",
       "      <td>27</td>\n",
       "    </tr>\n",
       "    <tr>\n",
       "      <th>2</th>\n",
       "      <td>16</td>\n",
       "      <td>33.5</td>\n",
       "      <td>0</td>\n",
       "      <td>32</td>\n",
       "    </tr>\n",
       "    <tr>\n",
       "      <th>3</th>\n",
       "      <td>5</td>\n",
       "      <td>15.9</td>\n",
       "      <td>0</td>\n",
       "      <td>30</td>\n",
       "    </tr>\n",
       "    <tr>\n",
       "      <th>4</th>\n",
       "      <td>16</td>\n",
       "      <td>24.9</td>\n",
       "      <td>0</td>\n",
       "      <td>23</td>\n",
       "    </tr>\n",
       "  </tbody>\n",
       "</table>\n",
       "</div>"
      ],
      "text/plain": [
       "   Visit.Time  Average.Expense Sex  Age\n",
       "0           3              5.7   0   10\n",
       "1           5             14.5   0   27\n",
       "2          16             33.5   0   32\n",
       "3           5             15.9   0   30\n",
       "4          16             24.9   0   23"
      ]
     },
     "metadata": {},
     "output_type": "display_data"
    },
    {
     "name": "stdout",
     "output_type": "stream",
     "text": [
      "<class 'pandas.core.frame.DataFrame'>\n",
      "RangeIndex: 60 entries, 0 to 59\n",
      "Data columns (total 4 columns):\n",
      " #   Column           Non-Null Count  Dtype  \n",
      "---  ------           --------------  -----  \n",
      " 0   Visit.Time       60 non-null     int64  \n",
      " 1   Average.Expense  60 non-null     float64\n",
      " 2   Sex              60 non-null     object \n",
      " 3   Age              60 non-null     int64  \n",
      "dtypes: float64(1), int64(2), object(1)\n",
      "memory usage: 2.0+ KB\n"
     ]
    },
    {
     "data": {
      "text/plain": [
       "None"
      ]
     },
     "metadata": {},
     "output_type": "display_data"
    }
   ],
   "source": [
    "df['Sex'] = df['Sex'].astype(\"object\")\n",
    "display(df.head())\n",
    "display(df.info())"
   ]
  },
  {
   "cell_type": "markdown",
   "metadata": {},
   "source": [
    "Data is scaled."
   ]
  },
  {
   "cell_type": "code",
   "execution_count": 35,
   "metadata": {},
   "outputs": [],
   "source": [
    "scaler = StandardScaler()\n",
    "df_scaled = scaler.fit_transform(df)"
   ]
  },
  {
   "cell_type": "markdown",
   "metadata": {},
   "source": [
    "Data is ready for task."
   ]
  },
  {
   "cell_type": "markdown",
   "metadata": {},
   "source": [
    "### Task:\n",
    "Cluster customer information using K-means algorithm. Produce Elbow and silhouette\n",
    "coefficient plots for cluster numbers ranging from 2 to 9.\n"
   ]
  },
  {
   "cell_type": "code",
   "execution_count": 40,
   "metadata": {},
   "outputs": [],
   "source": [
    "def kmeans_alg(df_scaled):\n",
    "    inertias = []\n",
    "    silhouette_scores = []\n",
    "    for k in range(2, 10):\n",
    "        kmeans = KMeans(n_clusters=k, random_state=42)\n",
    "        kmeans.fit(df_scaled)\n",
    "        inertias.append(kmeans.inertia_)\n",
    "        silhouette_scores.append(silhouette_score(df_scaled, kmeans.labels_))\n",
    "    return inertias,silhouette_scores\n",
    "\n",
    "\n"
   ]
  },
  {
   "cell_type": "markdown",
   "metadata": {},
   "source": [
    "Silhouette scores and inertias are calculated and visualized."
   ]
  },
  {
   "cell_type": "code",
   "execution_count": 41,
   "metadata": {},
   "outputs": [
    {
     "data": {
      "image/png": "[encoded data removed]",
      "text/plain": [
       "<Figure size 800x400 with 1 Axes>"
      ]
     },
     "metadata": {},
     "output_type": "display_data"
    },
    {
     "data": {
      "image/png": "[encoded data removed]",
      "text/plain": [
       "<Figure size 800x400 with 1 Axes>"
      ]
     },
     "metadata": {},
     "output_type": "display_data"
    }
   ],
   "source": [
    "inertias,silhouette_scores=kmeans_alg(df_scaled)\n",
    "\n",
    "plt.figure(figsize=(8, 4))\n",
    "plt.plot(range(2, 10), inertias, marker='o')\n",
    "plt.title('Elbow Method')\n",
    "plt.xlabel('Number of clusters')\n",
    "plt.ylabel('Inertia')\n",
    "plt.grid(True)\n",
    "plt.show()\n",
    "\n",
    "plt.figure(figsize=(8, 4))\n",
    "plt.plot(range(2, 10), silhouette_scores, marker='o')\n",
    "plt.title('Silhouette Method')\n",
    "plt.xlabel('Number of clusters')\n",
    "plt.ylabel('Silhouette Score')\n",
    "plt.grid(True)\n",
    "plt.show()"
   ]
  },
  {
   "cell_type": "markdown",
   "metadata": {},
   "source": [
    "In conclusion, both graphs suggest that the optimal number of clusters for the data is 4. The Elbow Method shows a clear elbow at 4 clusters, and the Silhouette Method has the highest silhouette score at 4 clusters. Therefore, 4 clusters appear to be the best choice for this dataset."
   ]
  },
  {
   "cell_type": "markdown",
   "metadata": {},
   "source": [
    "## Problem 3"
   ]
  },
  {
   "cell_type": "markdown",
   "metadata": {},
   "source": [
    "### EDA Process"
   ]
  },
  {
   "cell_type": "markdown",
   "metadata": {},
   "source": [
    "Data is imported."
   ]
  },
  {
   "cell_type": "code",
   "execution_count": 43,
   "metadata": {},
   "outputs": [
    {
     "data": {
      "text/html": [
       "<div>\n",
       "<style scoped>\n",
       "    .dataframe tbody tr th:only-of-type {\n",
       "        vertical-align: middle;\n",
       "    }\n",
       "\n",
       "    .dataframe tbody tr th {\n",
       "        vertical-align: top;\n",
       "    }\n",
       "\n",
       "    .dataframe thead th {\n",
       "        text-align: right;\n",
       "    }\n",
       "</style>\n",
       "<table border=\"1\" class=\"dataframe\">\n",
       "  <thead>\n",
       "    <tr style=\"text-align: right;\">\n",
       "      <th></th>\n",
       "      <th>customerID</th>\n",
       "      <th>gender</th>\n",
       "      <th>SeniorCitizen</th>\n",
       "      <th>Partner</th>\n",
       "      <th>Dependents</th>\n",
       "      <th>tenure</th>\n",
       "      <th>PhoneService</th>\n",
       "      <th>MultipleLines</th>\n",
       "      <th>InternetService</th>\n",
       "      <th>OnlineSecurity</th>\n",
       "      <th>...</th>\n",
       "      <th>DeviceProtection</th>\n",
       "      <th>TechSupport</th>\n",
       "      <th>StreamingTV</th>\n",
       "      <th>StreamingMovies</th>\n",
       "      <th>Contract</th>\n",
       "      <th>PaperlessBilling</th>\n",
       "      <th>PaymentMethod</th>\n",
       "      <th>MonthlyCharges</th>\n",
       "      <th>TotalCharges</th>\n",
       "      <th>Churn</th>\n",
       "    </tr>\n",
       "  </thead>\n",
       "  <tbody>\n",
       "    <tr>\n",
       "      <th>0</th>\n",
       "      <td>7590-VHVEG</td>\n",
       "      <td>Female</td>\n",
       "      <td>0</td>\n",
       "      <td>Yes</td>\n",
       "      <td>No</td>\n",
       "      <td>1</td>\n",
       "      <td>No</td>\n",
       "      <td>No phone service</td>\n",
       "      <td>DSL</td>\n",
       "      <td>No</td>\n",
       "      <td>...</td>\n",
       "      <td>No</td>\n",
       "      <td>No</td>\n",
       "      <td>No</td>\n",
       "      <td>No</td>\n",
       "      <td>Month-to-month</td>\n",
       "      <td>Yes</td>\n",
       "      <td>Electronic check</td>\n",
       "      <td>29.85</td>\n",
       "      <td>29.85</td>\n",
       "      <td>No</td>\n",
       "    </tr>\n",
       "    <tr>\n",
       "      <th>1</th>\n",
       "      <td>5575-GNVDE</td>\n",
       "      <td>Male</td>\n",
       "      <td>0</td>\n",
       "      <td>No</td>\n",
       "      <td>No</td>\n",
       "      <td>34</td>\n",
       "      <td>Yes</td>\n",
       "      <td>No</td>\n",
       "      <td>DSL</td>\n",
       "      <td>Yes</td>\n",
       "      <td>...</td>\n",
       "      <td>Yes</td>\n",
       "      <td>No</td>\n",
       "      <td>No</td>\n",
       "      <td>No</td>\n",
       "      <td>One year</td>\n",
       "      <td>No</td>\n",
       "      <td>Mailed check</td>\n",
       "      <td>56.95</td>\n",
       "      <td>1889.5</td>\n",
       "      <td>No</td>\n",
       "    </tr>\n",
       "    <tr>\n",
       "      <th>2</th>\n",
       "      <td>3668-QPYBK</td>\n",
       "      <td>Male</td>\n",
       "      <td>0</td>\n",
       "      <td>No</td>\n",
       "      <td>No</td>\n",
       "      <td>2</td>\n",
       "      <td>Yes</td>\n",
       "      <td>No</td>\n",
       "      <td>DSL</td>\n",
       "      <td>Yes</td>\n",
       "      <td>...</td>\n",
       "      <td>No</td>\n",
       "      <td>No</td>\n",
       "      <td>No</td>\n",
       "      <td>No</td>\n",
       "      <td>Month-to-month</td>\n",
       "      <td>Yes</td>\n",
       "      <td>Mailed check</td>\n",
       "      <td>53.85</td>\n",
       "      <td>108.15</td>\n",
       "      <td>Yes</td>\n",
       "    </tr>\n",
       "    <tr>\n",
       "      <th>3</th>\n",
       "      <td>7795-CFOCW</td>\n",
       "      <td>Male</td>\n",
       "      <td>0</td>\n",
       "      <td>No</td>\n",
       "      <td>No</td>\n",
       "      <td>45</td>\n",
       "      <td>No</td>\n",
       "      <td>No phone service</td>\n",
       "      <td>DSL</td>\n",
       "      <td>Yes</td>\n",
       "      <td>...</td>\n",
       "      <td>Yes</td>\n",
       "      <td>Yes</td>\n",
       "      <td>No</td>\n",
       "      <td>No</td>\n",
       "      <td>One year</td>\n",
       "      <td>No</td>\n",
       "      <td>Bank transfer (automatic)</td>\n",
       "      <td>42.30</td>\n",
       "      <td>1840.75</td>\n",
       "      <td>No</td>\n",
       "    </tr>\n",
       "    <tr>\n",
       "      <th>4</th>\n",
       "      <td>9237-HQITU</td>\n",
       "      <td>Female</td>\n",
       "      <td>0</td>\n",
       "      <td>No</td>\n",
       "      <td>No</td>\n",
       "      <td>2</td>\n",
       "      <td>Yes</td>\n",
       "      <td>No</td>\n",
       "      <td>Fiber optic</td>\n",
       "      <td>No</td>\n",
       "      <td>...</td>\n",
       "      <td>No</td>\n",
       "      <td>No</td>\n",
       "      <td>No</td>\n",
       "      <td>No</td>\n",
       "      <td>Month-to-month</td>\n",
       "      <td>Yes</td>\n",
       "      <td>Electronic check</td>\n",
       "      <td>70.70</td>\n",
       "      <td>151.65</td>\n",
       "      <td>Yes</td>\n",
       "    </tr>\n",
       "  </tbody>\n",
       "</table>\n",
       "<p>5 rows × 21 columns</p>\n",
       "</div>"
      ],
      "text/plain": [
       "   customerID  gender  SeniorCitizen Partner Dependents  tenure PhoneService  \\\n",
       "0  7590-VHVEG  Female              0     Yes         No       1           No   \n",
       "1  5575-GNVDE    Male              0      No         No      34          Yes   \n",
       "2  3668-QPYBK    Male              0      No         No       2          Yes   \n",
       "3  7795-CFOCW    Male              0      No         No      45           No   \n",
       "4  9237-HQITU  Female              0      No         No       2          Yes   \n",
       "\n",
       "      MultipleLines InternetService OnlineSecurity  ... DeviceProtection  \\\n",
       "0  No phone service             DSL             No  ...               No   \n",
       "1                No             DSL            Yes  ...              Yes   \n",
       "2                No             DSL            Yes  ...               No   \n",
       "3  No phone service             DSL            Yes  ...              Yes   \n",
       "4                No     Fiber optic             No  ...               No   \n",
       "\n",
       "  TechSupport StreamingTV StreamingMovies        Contract PaperlessBilling  \\\n",
       "0          No          No              No  Month-to-month              Yes   \n",
       "1          No          No              No        One year               No   \n",
       "2          No          No              No  Month-to-month              Yes   \n",
       "3         Yes          No              No        One year               No   \n",
       "4          No          No              No  Month-to-month              Yes   \n",
       "\n",
       "               PaymentMethod MonthlyCharges  TotalCharges Churn  \n",
       "0           Electronic check          29.85         29.85    No  \n",
       "1               Mailed check          56.95        1889.5    No  \n",
       "2               Mailed check          53.85        108.15   Yes  \n",
       "3  Bank transfer (automatic)          42.30       1840.75    No  \n",
       "4           Electronic check          70.70        151.65   Yes  \n",
       "\n",
       "[5 rows x 21 columns]"
      ]
     },
     "metadata": {},
     "output_type": "display_data"
    },
    {
     "name": "stdout",
     "output_type": "stream",
     "text": [
      "<class 'pandas.core.frame.DataFrame'>\n",
      "RangeIndex: 7043 entries, 0 to 7042\n",
      "Data columns (total 21 columns):\n",
      " #   Column            Non-Null Count  Dtype  \n",
      "---  ------            --------------  -----  \n",
      " 0   customerID        7043 non-null   object \n",
      " 1   gender            7043 non-null   object \n",
      " 2   SeniorCitizen     7043 non-null   int64  \n",
      " 3   Partner           7043 non-null   object \n",
      " 4   Dependents        7043 non-null   object \n",
      " 5   tenure            7043 non-null   int64  \n",
      " 6   PhoneService      7043 non-null   object \n",
      " 7   MultipleLines     7043 non-null   object \n",
      " 8   InternetService   7043 non-null   object \n",
      " 9   OnlineSecurity    7043 non-null   object \n",
      " 10  OnlineBackup      7043 non-null   object \n",
      " 11  DeviceProtection  7043 non-null   object \n",
      " 12  TechSupport       7043 non-null   object \n",
      " 13  StreamingTV       7043 non-null   object \n",
      " 14  StreamingMovies   7043 non-null   object \n",
      " 15  Contract          7043 non-null   object \n",
      " 16  PaperlessBilling  7043 non-null   object \n",
      " 17  PaymentMethod     7043 non-null   object \n",
      " 18  MonthlyCharges    7043 non-null   float64\n",
      " 19  TotalCharges      7043 non-null   object \n",
      " 20  Churn             7043 non-null   object \n",
      "dtypes: float64(1), int64(2), object(18)\n",
      "memory usage: 1.1+ MB\n"
     ]
    },
    {
     "data": {
      "text/plain": [
       "None"
      ]
     },
     "metadata": {},
     "output_type": "display_data"
    }
   ],
   "source": [
    "filename=\"WA_Fn-UseC_-Telco-Customer-Churn.csv\"\n",
    "df=pd.read_csv(filename)\n",
    "display(df.head())\n",
    "display(df.info())"
   ]
  },
  {
   "cell_type": "markdown",
   "metadata": {},
   "source": [
    "As it can be seen there are no null values. Additionally, In the dataset, there are some annotations that should be boolean but have similar meanings. For example, in the 'multiple lines' column, both 'no' and 'no phone service' are used. Therefore, let's examine the unique expressions column by column within the data. "
   ]
  },
  {
   "cell_type": "code",
   "execution_count": 44,
   "metadata": {},
   "outputs": [
    {
     "name": "stdout",
     "output_type": "stream",
     "text": [
      "customerID :  ['7590-VHVEG' '5575-GNVDE' '3668-QPYBK' ... '4801-JZAZL' '8361-LTMKD'\n",
      " '3186-AJIEK']\n",
      "gender :  ['Female' 'Male']\n",
      "SeniorCitizen :  [0 1]\n",
      "Partner :  ['Yes' 'No']\n",
      "Dependents :  ['No' 'Yes']\n",
      "tenure :  [ 1 34  2 45  8 22 10 28 62 13 16 58 49 25 69 52 71 21 12 30 47 72 17 27\n",
      "  5 46 11 70 63 43 15 60 18 66  9  3 31 50 64 56  7 42 35 48 29 65 38 68\n",
      " 32 55 37 36 41  6  4 33 67 23 57 61 14 20 53 40 59 24 44 19 54 51 26  0\n",
      " 39]\n",
      "PhoneService :  ['No' 'Yes']\n",
      "MultipleLines :  ['No phone service' 'No' 'Yes']\n",
      "InternetService :  ['DSL' 'Fiber optic' 'No']\n",
      "OnlineSecurity :  ['No' 'Yes' 'No internet service']\n",
      "OnlineBackup :  ['Yes' 'No' 'No internet service']\n",
      "DeviceProtection :  ['No' 'Yes' 'No internet service']\n",
      "TechSupport :  ['No' 'Yes' 'No internet service']\n",
      "StreamingTV :  ['No' 'Yes' 'No internet service']\n",
      "StreamingMovies :  ['No' 'Yes' 'No internet service']\n",
      "Contract :  ['Month-to-month' 'One year' 'Two year']\n",
      "PaperlessBilling :  ['Yes' 'No']\n",
      "PaymentMethod :  ['Electronic check' 'Mailed check' 'Bank transfer (automatic)'\n",
      " 'Credit card (automatic)']\n",
      "MonthlyCharges :  [29.85 56.95 53.85 ... 63.1  44.2  78.7 ]\n",
      "TotalCharges :  ['29.85' '1889.5' '108.15' ... '346.45' '306.6' '6844.5']\n",
      "Churn :  ['No' 'Yes']\n"
     ]
    }
   ],
   "source": [
    "for i in range(len(df.columns)):\n",
    "    print(df.columns[i],': ',df[df.columns[i]].unique())"
   ]
  },
  {
   "cell_type": "markdown",
   "metadata": {},
   "source": [
    "The data in the decided columns has been reorganized to contain only 'yes' and 'no' values. Manipulated columns are shown below."
   ]
  },
  {
   "cell_type": "code",
   "execution_count": 45,
   "metadata": {},
   "outputs": [
    {
     "name": "stdout",
     "output_type": "stream",
     "text": [
      "Transformed Features\n",
      "MultipleLines :  ['No' 'Yes']\n",
      "InternetService :  ['Yes' 'No']\n",
      "OnlineSecurity :  ['No' 'Yes']\n",
      "OnlineBackup :  ['Yes' 'No']\n",
      "DeviceProtection :  ['No' 'Yes']\n",
      "TechSupport :  ['No' 'Yes']\n",
      "StreamingTV :  ['No' 'Yes']\n",
      "StreamingMovies :  ['No' 'Yes']\n"
     ]
    }
   ],
   "source": [
    "print('Transformed Features')\n",
    "for i in range(len(df.columns)):\n",
    "    \n",
    "    before=len(df[df.columns[i]].unique())\n",
    "    if 'No phone service' in df[df.columns[i]].unique():\n",
    "        df[df.columns[i]]=df[df.columns[i]].replace('No phone service','No')\n",
    "    if 'No internet service' in df[df.columns[i]].unique():\n",
    "        df[df.columns[i]]=df[df.columns[i]].replace('No internet service','No')\n",
    "    if 'DSL' in df[df.columns[i]].unique():\n",
    "        df[df.columns[i]]=df[df.columns[i]].replace('DSL','Yes')\n",
    "        df[df.columns[i]]=df[df.columns[i]].replace('Fiber optic','Yes')\n",
    "    if len(df[df.columns[i]].unique()) != before:\n",
    "        print(df.columns[i],': ',df[df.columns[i]].unique())"
   ]
  },
  {
   "cell_type": "markdown",
   "metadata": {},
   "source": [
    "### Task:\n",
    "Predict customer churn with Logistic Regression, Decision Tree, Support Vector Machine, K-Nearest\n",
    "Neighbor and Neural Network methods. For the parameters of these models use sklearn default\n",
    "parameters. For cross-validation use 5-Fold cross validation with shuffling. When preparing the data\n",
    "for prediction you can drop the customer ID. TotalCharges column has some missing data, drop the\n",
    "rows having missing data in the totalcharges column. Print the average accuracy scores for training and\n",
    "test splits of cross validation as given below. Note that you may get different scores since we use\n",
    "shuffling the data in splitting step."
   ]
  },
  {
   "cell_type": "markdown",
   "metadata": {},
   "source": [
    "The 'Customer ID' column has been removed. Additionally, manipulations to remove any missing values were applied as stated in the question."
   ]
  },
  {
   "cell_type": "code",
   "execution_count": 48,
   "metadata": {},
   "outputs": [],
   "source": [
    "df.drop(columns=['customerID'], inplace=True)\n",
    "\n",
    "df = df.dropna(subset=['TotalCharges'])\n",
    "df['TotalCharges'] = pd.to_numeric(df['TotalCharges'], errors='coerce')\n",
    "df.dropna(inplace=True)"
   ]
  },
  {
   "cell_type": "markdown",
   "metadata": {},
   "source": [
    "features and targets are defined. Moreover features are modified for One-hot encoding for categorical features."
   ]
  },
  {
   "cell_type": "code",
   "execution_count": 49,
   "metadata": {},
   "outputs": [],
   "source": [
    "X = df.drop(columns=['Churn'])\n",
    "y = df['Churn'].apply(lambda x: 1 if x == 'Yes' else 0)\n",
    "\n",
    "\n",
    "X = pd.get_dummies(X)"
   ]
  },
  {
   "cell_type": "markdown",
   "metadata": {},
   "source": [
    "Expected inputs and models are defined."
   ]
  },
  {
   "cell_type": "code",
   "execution_count": 50,
   "metadata": {},
   "outputs": [],
   "source": [
    "skf = StratifiedKFold(n_splits=5, shuffle=True, random_state=42)\n",
    "\n",
    "models = {\n",
    "    \"Logistic Regression\": LogisticRegression(),\n",
    "    \"Decision Tree\": DecisionTreeClassifier(),\n",
    "    \"Support Vector Machine\": SVC(),\n",
    "    \"K-Nearest Neighbors\": KNeighborsClassifier(),\n",
    "    \"Neural Network\": MLPClassifier()\n",
    "}\n",
    "\n",
    "results = {}"
   ]
  },
  {
   "cell_type": "markdown",
   "metadata": {},
   "source": [
    "Models are executed as it shown below."
   ]
  },
  {
   "cell_type": "code",
   "execution_count": 55,
   "metadata": {},
   "outputs": [],
   "source": [
    "for model_name, model in models.items():\n",
    "    pipeline = Pipeline([\n",
    "        ('scaler', StandardScaler()),  # Standardize the data\n",
    "        ('classifier', model)\n",
    "    ])\n",
    "    \n",
    "    # Compute cross-validated scores for training and test sets\n",
    "    train_scores = []\n",
    "    test_scores = []\n",
    "\n",
    "    for train_index, test_index in skf.split(X, y):\n",
    "        X_train, X_test = X.iloc[train_index], X.iloc[test_index]\n",
    "        y_train, y_test = y.iloc[train_index], y.iloc[test_index]\n",
    "        \n",
    "        pipeline.fit(X_train, y_train)\n",
    "        \n",
    "        train_scores.append(pipeline.score(X_train, y_train))\n",
    "        test_scores.append(pipeline.score(X_test, y_test))\n",
    "\n",
    "    results[model_name] = {\n",
    "        \"train_score\": np.mean(train_scores),\n",
    "        \"test_score\": np.mean(test_scores)\n",
    "    }\n"
   ]
  },
  {
   "cell_type": "markdown",
   "metadata": {},
   "source": [
    "Results are reported."
   ]
  },
  {
   "cell_type": "code",
   "execution_count": 53,
   "metadata": {},
   "outputs": [
    {
     "name": "stdout",
     "output_type": "stream",
     "text": [
      "                           train      test\n",
      "model                                     \n",
      "Logistic Regression     0.805390  0.802900\n",
      "Decision Tree           0.997831  0.724257\n",
      "Support Vector Machine  0.822881  0.793800\n",
      "K-Nearest Neighbors     0.828641  0.751847\n",
      "Neural Network          0.870058  0.773321\n"
     ]
    }
   ],
   "source": [
    "result_df = pd.DataFrame({\n",
    "    'model': results.keys(),\n",
    "    'train': [scores['train_score'] for scores in results.values()],\n",
    "    'test': [scores['test_score'] for scores in results.values()]\n",
    "})\n",
    "\n",
    "result_df.set_index('model', inplace=True)\n",
    "print(result_df)"
   ]
  },
  {
   "cell_type": "markdown",
   "metadata": {},
   "source": [
    "Logistic Regression and Support Vector Machine appear to be the best models in terms of generalization to unseen data, with very close train and test accuracies. In additionally, Logistic Regression having a slight edge due to its slightly higher test accuracy."
   ]
  }
 ],
 "metadata": {
  "kernelspec": {
   "display_name": "base",
   "language": "python",
   "name": "python3"
  },
  "language_info": {
   "codemirror_mode": {
    "name": "ipython",
    "version": 3
   },
   "file_extension": ".py",
   "mimetype": "text/x-python",
   "name": "python",
   "nbconvert_exporter": "python",
   "pygments_lexer": "ipython3",
   "version": "3.11.7"
  }
 },
 "nbformat": 4,
 "nbformat_minor": 2
}
